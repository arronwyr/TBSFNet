{
 "cells": [
  {
   "cell_type": "code",
   "execution_count": 1,
   "id": "159c3c47-667d-4da8-acf8-13df147e7ab6",
   "metadata": {},
   "outputs": [],
   "source": [
    "import aircv as ac\n",
    "import numpy as np"
   ]
  },
  {
   "cell_type": "code",
   "execution_count": 2,
   "id": "48ec41f1-f11e-4e9f-b48d-0c2d18e8fe48",
   "metadata": {},
   "outputs": [],
   "source": [
    "from pathlib import Path\n",
    "from PIL import Image\n",
    "from fplab.tools.image import get_data_dirs\n",
    "from fplab.tools.array import IMA"
   ]
  },
  {
   "cell_type": "markdown",
   "id": "604639a6-af27-4166-b72f-9248b7c1fe28",
   "metadata": {},
   "source": [
    "### delete files"
   ]
  },
  {
   "cell_type": "code",
   "execution_count": null,
   "id": "1c6fef14-1b5a-4402-92e4-b8a2dfd8c306",
   "metadata": {},
   "outputs": [],
   "source": [
    "script_d = r\"E:\\Projects\\fingerprint\\data\\sources\\MOLF\\DB4_unrename_dirs.txt\"\n",
    "root_d = r\"E:\\Projects\\fingerprint\\data\\sources\\MOLF\\DB4_Latent_renamed\"\n",
    "img_dirs = []\n",
    "img_dirs = get_data_dirs(root_d, img_dirs)"
   ]
  },
  {
   "cell_type": "code",
   "execution_count": null,
   "id": "609af58f-c16f-473d-a4c5-c2c21d8d0888",
   "metadata": {},
   "outputs": [],
   "source": [
    "remove_dirs = []\n",
    "remove_flag = [\"_1_1.png\", \"_1_2.png\", \"_5_1.png\", \"_5_2.png\"]\n",
    "for d in img_dirs:\n",
    "    for flag in remove_flag:\n",
    "        if flag in d:\n",
    "            remove_dirs.append(d)"
   ]
  },
  {
   "cell_type": "code",
   "execution_count": null,
   "id": "62096b6c-9a3b-4d5b-b336-569be4c4e0ba",
   "metadata": {},
   "outputs": [],
   "source": [
    "with open(script_d, \"a\") as f:\n",
    "    f.write(\"remove_dirs:\\n\")\n",
    "    for d in remove_dirs:\n",
    "        f.write(f\"{d}\\n\")\n",
    "        im_p = Path(d)\n",
    "        im = Image.open(im_p)\n",
    "        im.save(d.replace(\"DB4_Latent_renamed\", \"DB4_Latent_unrenamed\"))\n",
    "        im_p.unlink()"
   ]
  },
  {
   "cell_type": "markdown",
   "id": "4e940aa2-3e08-42d5-8031-7157574ac634",
   "metadata": {},
   "source": [
    "### rename files"
   ]
  },
  {
   "cell_type": "code",
   "execution_count": 3,
   "id": "31053720-c002-4a45-8c05-d577440104f2",
   "metadata": {},
   "outputs": [],
   "source": [
    "script_d = r\"E:\\Projects\\fingerprint\\data\\sources\\MOLF\\DB4_rename_scripts.txt\"\n",
    "root_d = r\"E:\\Projects\\fingerprint\\data\\sources\\MOLF\\DB4_Latent_renamed\"\n",
    "root_source_d = root_d.replace(\"DB4_Latent_renamed\", \"DB5_SimLatent\")\n",
    "img_dirs = []\n",
    "img_dirs = get_data_dirs(root_d, img_dirs)"
   ]
  },
  {
   "cell_type": "code",
   "execution_count": 4,
   "id": "b55e8b63-5871-4006-b485-6256545f5e29",
   "metadata": {},
   "outputs": [],
   "source": [
    "img_infos = {}\n",
    "i = 0\n",
    "for d in img_dirs:\n",
    "    im_p = Path(d)\n",
    "    stems = im_p.stem.split(\"_\")\n",
    "    source = f\"{stems[0]}_{stems[1]}_{stems[2]}.png\"\n",
    "    source_d = Path(root_source_d)/source\n",
    "    im_source = IMA.read(source_d).l2rgb().ima\n",
    "    im_search = IMA.read(d).l2rgb().ima\n",
    "    x, y = ac.find_template(im_source, im_search)['result']\n",
    "    img_infos[d]=x"
   ]
  },
  {
   "cell_type": "code",
   "execution_count": 5,
   "id": "0e7f4608-4efc-4f96-be79-10ce53d7f888",
   "metadata": {},
   "outputs": [],
   "source": [
    "for d in img_dirs:\n",
    "    info = img_infos[d]\n",
    "    im_p = Path(d)\n",
    "    im = Image.open(im_p)\n",
    "    stems = im_p.stem.split(\"_\")\n",
    "    old_name = f\"{stems[0]}_{stems[1]}_{stems[2]}_{stems[3]}.png\"\n",
    "    if stems[2] in [\"2\", \"6\"]:\n",
    "        infos = []\n",
    "        for i in range(2):\n",
    "            infos.append(img_infos[d.replace(f\"_{stems[3]}.png\", f\"_{i+1}.png\")])\n",
    "        ind = sorted(infos).index(info)\n",
    "        if stems[1] == \"L\":\n",
    "            finger_id = 8-ind\n",
    "        else:\n",
    "            assert stems[1] == \"R\"\n",
    "            finger_id = 2+ind\n",
    "        new_name = f\"{stems[0]}_{stems[2]}_{finger_id}.png\"\n",
    "    if stems[2] in [\"3\", \"7\"]:\n",
    "        infos = []\n",
    "        for i in range(3):\n",
    "            infos.append(img_infos[d.replace(f\"_{stems[3]}.png\", f\"_{i+1}.png\")])\n",
    "        ind = sorted(infos).index(info)\n",
    "        if stems[1] == \"L\":\n",
    "            finger_id = 9-ind\n",
    "        else:\n",
    "            assert stems[1] == \"R\"\n",
    "            finger_id = 2+ind\n",
    "        new_name = f\"{stems[0]}_{stems[2]}_{finger_id}.png\"\n",
    "    if stems[2] in [\"4\", \"8\"]:\n",
    "        infos = []\n",
    "        for i in range(4):\n",
    "            infos.append(img_infos[d.replace(f\"_{stems[3]}.png\", f\"_{i+1}.png\")])\n",
    "        ind = sorted(infos).index(info)\n",
    "        if stems[1] == \"L\":\n",
    "            finger_id = 10-ind\n",
    "        else:\n",
    "            assert stems[1] == \"R\"\n",
    "            finger_id = 2+ind\n",
    "        new_name = f\"{stems[0]}_{stems[2]}_{finger_id}.png\"     \n",
    "    with open(script_d, \"a\") as f:\n",
    "        f.write(f\"{old_name}->{new_name}\\n\")\n",
    "    im.save(d.replace(old_name, new_name))\n",
    "    im_p.unlink()"
   ]
  }
 ],
 "metadata": {
  "kernelspec": {
   "display_name": "fingerprint",
   "language": "python",
   "name": "fingerprint"
  },
  "language_info": {
   "codemirror_mode": {
    "name": "ipython",
    "version": 3
   },
   "file_extension": ".py",
   "mimetype": "text/x-python",
   "name": "python",
   "nbconvert_exporter": "python",
   "pygments_lexer": "ipython3",
   "version": "3.10.14"
  }
 },
 "nbformat": 4,
 "nbformat_minor": 5
}
