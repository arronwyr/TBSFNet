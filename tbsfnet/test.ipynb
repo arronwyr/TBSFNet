{
 "cells": [
  {
   "cell_type": "code",
   "execution_count": 1,
   "id": "aa0da66a-f37f-4689-a225-daa4daecf9b9",
   "metadata": {},
   "outputs": [],
   "source": [
    "import tqdm\n",
    "import cv2\n",
    "import torch"
   ]
  },
  {
   "cell_type": "code",
   "execution_count": 2,
   "id": "8b405d91-3246-4412-b37a-1fed5847ffc8",
   "metadata": {},
   "outputs": [],
   "source": [
    "from pathlib import Path\n",
    "from fplab.tools.array import IMA\n",
    "from fplab.tools.tensor import IMT\n",
    "from fplab.tools.image import change_image, get_data_dirs"
   ]
  },
  {
   "cell_type": "code",
   "execution_count": 3,
   "id": "b10026b2-c33a-4a0b-862e-d6ff151f8ea4",
   "metadata": {},
   "outputs": [],
   "source": [
    "from datasets import preprocess_data\n",
    "from models import FENet, ReNet"
   ]
  },
  {
   "cell_type": "code",
   "execution_count": 4,
   "id": "c73be1ab-30e1-4ceb-b813-4e46dc771ab9",
   "metadata": {},
   "outputs": [],
   "source": [
    "load_dir = r\"latest_fe_net.pth\"\n",
    "load_dir = str(Path(load_dir).absolute())\n",
    "save_root_dir = r\"..\\results\\MOLF\"\n",
    "save_root_dir = str(Path(save_root_dir).absolute())"
   ]
  },
  {
   "cell_type": "code",
   "execution_count": 5,
   "id": "1f62dfb1",
   "metadata": {},
   "outputs": [],
   "source": [
    "result_path = Path(save_root_dir)"
   ]
  },
  {
   "cell_type": "code",
   "execution_count": 6,
   "id": "9ac6030e",
   "metadata": {},
   "outputs": [],
   "source": [
    "imgs_dir = r\"E:\\Projects\\fingerprint\\data\\test\\MOLF\\images\"\n",
    "imgs_dir = str(Path(imgs_dir).absolute())\n",
    "img_dirs = []\n",
    "img_dirs = get_data_dirs(imgs_dir, img_dirs)"
   ]
  },
  {
   "cell_type": "code",
   "execution_count": 7,
   "id": "257c0bef",
   "metadata": {},
   "outputs": [],
   "source": [
    "class MyOptions():\n",
    "    def __init__(self):\n",
    "        self.device = \"cuda:0\"\n",
    "        self.learning_rate = 0.0001\n",
    "        self.epoch_start = 0\n",
    "        self.epoch_end = 10\n",
    "        self.epoch_fixed_lr = 5\n",
    "        self.weight_path = Path(\"\")\n",
    "        self.ch_num_in = 1\n",
    "        self.ch_num_n = 64\n",
    "        self.res_num_n = [3, 6, 3, 3, 6]\n",
    "        self.image_size_max = 448\n",
    "        self.image_pad_size = [512, 512]\n",
    "        self.need_zscore = True\n",
    "        self.position_embedding = True"
   ]
  },
  {
   "cell_type": "code",
   "execution_count": 8,
   "id": "6f03a58d",
   "metadata": {},
   "outputs": [],
   "source": [
    "options = MyOptions()\n",
    "fe_net = FENet(options)\n",
    "re_net = ReNet(options)"
   ]
  },
  {
   "cell_type": "code",
   "execution_count": 9,
   "id": "97dc07ef",
   "metadata": {},
   "outputs": [],
   "source": [
    "nets = [fe_net, re_net]\n",
    "for i in range(len(nets)):\n",
    "    state_dict = torch.load(Path(load_dir.replace(nets[0].name, nets[i].name)), map_location=options.device)\n",
    "    nets[i].load_state_dict(state_dict)\n",
    "for net in nets:\n",
    "    net.eval()"
   ]
  },
  {
   "cell_type": "code",
   "execution_count": 10,
   "id": "5c56051c",
   "metadata": {},
   "outputs": [
    {
     "name": "stderr",
     "output_type": "stream",
     "text": [
      "Enhancing latent fingerprint: 100%|████████████████████████████████████████████████| 3600/3600 [39:24<00:00,  1.52it/s]\n"
     ]
    }
   ],
   "source": [
    "with tqdm.tqdm(total=len(img_dirs)) as pbar:\n",
    "    pbar.set_description(\"Enhancing latent fingerprint\")\n",
    "    for d in img_dirs:\n",
    "        # Preprocess the image and get the save path\n",
    "        im_d = str(Path(d).absolute())\n",
    "        sv_d = im_d.replace(imgs_dir, str(result_path.absolute()))\n",
    "        shape = IMA.read(im_d).shape[:2]\n",
    "        Path(sv_d).parent.mkdir(parents=True, exist_ok=True)\n",
    "        length_max = shape[0] if shape[0] >= shape[1] else shape[1]\n",
    "        if length_max > options.image_size_max:\n",
    "            r = options.image_size_max / length_max\n",
    "            resize_shape = [int(shape[0] * r), int(shape[1] * r)]\n",
    "        else:\n",
    "            resize_shape = shape\n",
    "        im_d = str((change_image(im_d, sv_pt=Path(sv_d).parent, md='L', re_sz=[resize_shape[1], resize_shape[0]])).absolute())\n",
    "        # Read the image\n",
    "        im = IMT.read(im_d, options.device).rgb2l().imt\n",
    "        im_in = preprocess_data(im, need_zscore=options.need_zscore, test_mode=True)\n",
    "        im_in = IMT(im_in).pad_crop(options.image_pad_size, pad_md='replicate').imt.unsqueeze(0)\n",
    "        # Enhance the image\n",
    "        with torch.no_grad():\n",
    "            im_out = re_net(fe_net(im_in)[0])\n",
    "        im_out = IMT(im_out.squeeze().unsqueeze(0)).pad_crop(resize_shape).imt\n",
    "        im_out = IMA.imt2ima(im_out)\n",
    "        im_out = cv2.resize(im_out.ima, (shape[1], shape[0]))\n",
    "        IMA(im_out).save(sv_d)\n",
    "        pbar.update(1)"
   ]
  }
 ],
 "metadata": {
  "kernelspec": {
   "display_name": "fingerprint",
   "language": "python",
   "name": "fingerprint"
  },
  "language_info": {
   "codemirror_mode": {
    "name": "ipython",
    "version": 3
   },
   "file_extension": ".py",
   "mimetype": "text/x-python",
   "name": "python",
   "nbconvert_exporter": "python",
   "pygments_lexer": "ipython3",
   "version": "3.10.14"
  }
 },
 "nbformat": 4,
 "nbformat_minor": 5
}
